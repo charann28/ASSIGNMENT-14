{
 "cells": [
  {
   "cell_type": "code",
   "execution_count": null,
   "id": "2d69f7d7",
   "metadata": {},
   "outputs": [],
   "source": [
    "1. What does RGBA stand for?\n",
    "ANSWER:\n",
    "    red\n",
    "    green\n",
    "    blue\n",
    "    alpha transparency"
   ]
  },
  {
   "cell_type": "code",
   "execution_count": null,
   "id": "69ea5d57",
   "metadata": {},
   "outputs": [],
   "source": [
    "2. From the Pillow module, how do you get the RGBA value of any images?\n",
    "ANSWER:\n",
    "    Syntax: getpixel(self, xy)\n",
    "    Parameters:\n",
    "    xy :The pixel coordinate, given as (x, y).\n",
    "    Returns: a pixel value for single band images, a tuple of pixel values for multiband images."
   ]
  },
  {
   "cell_type": "code",
   "execution_count": null,
   "id": "94deddf1",
   "metadata": {},
   "outputs": [],
   "source": [
    "3. What is a box tuple, and how does it work?\n",
    "ANSWER:\n",
    "    The box tuple submodule provides read-only access for the tuple userdata type. \n",
    "    It allows, for a single tuple: selective retrieval of the field contents, retrieval of information about size, iteration over all the fields, and conversion to a Lua table."
   ]
  },
  {
   "cell_type": "code",
   "execution_count": null,
   "id": "f95120b1",
   "metadata": {},
   "outputs": [],
   "source": [
    "4. Use your image and load in notebook then, How can you find out the width and height of an\n",
    "Image object?\n",
    "ANSWER:\n",
    "      # import required module\n",
    "        from PIL import Image\n",
    "\n",
    "      # get image\n",
    "        filepath = \"img.png\"\n",
    "        img = Image.open(filepath)\n",
    "\n",
    "      # get width and height\n",
    "        width = img.width\n",
    "        height = img.height\n",
    "\n",
    "      # display width and height\n",
    "        print(\"The height of the image is: \", height)\n",
    "        print(\"The width of the image is: \", width)\n"
   ]
  },
  {
   "cell_type": "code",
   "execution_count": null,
   "id": "b2f25930",
   "metadata": {},
   "outputs": [],
   "source": [
    "5. What method would you call to get Image object for a 100×100 image, excluding the lower-left\n",
    "quarter of it?\n",
    "ANSWER:\n",
    "    from PIL import Image\n",
    "    import numpy as np\t\n",
    "\n",
    "    # Opening the image and converting\n",
    "    # it to RGB color mode\n",
    "    # IMAGE_PATH => Path to the image\n",
    "    img = Image.open(r\"IMAGE_PATH\").convert('RGB')\n",
    "\n",
    "    # Extracting the image data &\n",
    "    # creating an numpy array out of it\n",
    "    img_arr = np.array(img)\n",
    "\n",
    "    # Turning the pixel values of the 400x400 pixels to black\n",
    "    img_arr[0 : 400, 0 : 400] = (0, 0, 0)\n",
    "\n",
    "    # Creating an image out of the previously modified array\n",
    "    img = Image.fromarray(img_arr)\n",
    "\n",
    "    # Displaying the image\n",
    "    img.show()\n"
   ]
  },
  {
   "cell_type": "code",
   "execution_count": null,
   "id": "88d57975",
   "metadata": {},
   "outputs": [],
   "source": [
    "6. After making changes to an Image object, how could you save it as an image file?\n",
    "ANSWER:\n",
    "    To save images, we can use the PIL.save() function."
   ]
  },
  {
   "cell_type": "code",
   "execution_count": null,
   "id": "b24affdb",
   "metadata": {},
   "outputs": [],
   "source": [
    "7. What module contains Pillow’s shape-drawing code?\n",
    "ANSWER:\n",
    "    The 'ImageDraw' module provides simple 2D graphics support for Image Object. "
   ]
  },
  {
   "cell_type": "code",
   "execution_count": null,
   "id": "c71a552f",
   "metadata": {},
   "outputs": [],
   "source": [
    "8. Image objects do not have drawing methods. What kind of object does? How do you get this kind\n",
    "of object?\n",
    "ANSWER:\n",
    "    Drawing objects are created exclusively by the window method begindrawing() . Only one drawing object can exist at any given time; the drawing object must be deleted to finish drawing. \n",
    "    No drawing object may exist when stdwin. getevent() is called."
   ]
  }
 ],
 "metadata": {
  "kernelspec": {
   "display_name": "Python 3 (ipykernel)",
   "language": "python",
   "name": "python3"
  },
  "language_info": {
   "codemirror_mode": {
    "name": "ipython",
    "version": 3
   },
   "file_extension": ".py",
   "mimetype": "text/x-python",
   "name": "python",
   "nbconvert_exporter": "python",
   "pygments_lexer": "ipython3",
   "version": "3.9.13"
  }
 },
 "nbformat": 4,
 "nbformat_minor": 5
}
